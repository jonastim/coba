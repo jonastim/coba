{
 "cells": [
  {
   "cell_type": "code",
   "execution_count": null,
   "outputs": [],
   "source": [
    "%load_ext autoreload\n",
    "%autoreload 2"
   ],
   "metadata": {
    "collapsed": false,
    "pycharm": {
     "name": "#%%\n",
     "is_executing": true
    }
   }
  },
  {
   "cell_type": "code",
   "execution_count": null,
   "outputs": [],
   "source": [
    "from typing import Optional, Sequence\n",
    "\n",
    "import numpy as np\n",
    "\n",
    "from coba import CobaRandom, Environments, RandomLearner, Experiment, VowpalBagLearner\n",
    "from coba.environments import LambdaSimulation\n",
    "from coba.experiments.results import CustomResult\n",
    "from coba.experiments.tasks import SimpleEvaluation\n",
    "from coba.primitives import Context, Action"
   ],
   "metadata": {
    "collapsed": false,
    "pycharm": {
     "name": "#%%\n",
     "is_executing": true
    }
   }
  },
  {
   "cell_type": "markdown",
   "metadata": {
    "pycharm": {
     "name": "#%% md\n"
    }
   },
   "source": [
    "# Run Simulation"
   ]
  },
  {
   "cell_type": "code",
   "execution_count": null,
   "outputs": [],
   "source": [
    "class CustomEnvironment(LambdaSimulation):\n",
    "    def __init__(self, n_interactions: Optional[int] = 1000):\n",
    "        super().__init__(n_interactions, self.context, self.actions, self.rewards)\n",
    "        self.r = CobaRandom(1)\n",
    "\n",
    "    def actions(self, index: int, context: Context) -> Sequence[Action]:\n",
    "        \"\"\"\n",
    "        actions: A function that should return all valid actions for a given index, context and random state.\n",
    "        \"\"\"\n",
    "        return [0, 1]\n",
    "\n",
    "    def context(self, index: int) -> Context:\n",
    "        return {\n",
    "            \"feature_1\": self.r.randoms(1)[0],\n",
    "            \"feature_2\": self.r.randoms(1)[0],\n",
    "            \"feature_3\": self.r.randoms(1)[0]\n",
    "        }\n",
    "\n",
    "    def rewards(self, index: int, context: Context, action: Action) -> float:\n",
    "        # reward centered around 0.5, with feature_1 strongly positively correlating with the reward for the first action \n",
    "        # and feature_2 half as much negatively correlating\n",
    "        reward_probabilities_for_actions = [\n",
    "            0.5 \n",
    "                + 1.0 * (context[\"feature_1\"] - 0.5) \n",
    "                - 0.5 * (context[\"feature_2\"] - 0.5),\n",
    "            0.5\n",
    "        ]\n",
    "        \n",
    "        reward_probabilities_for_actions = [min(1.0, max(0.0, prob)) for prob in reward_probabilities_for_actions]\n",
    "        return np.random.binomial(1, reward_probabilities_for_actions[action])\n",
    "\n",
    "environments = Environments([CustomEnvironment(5000)]).shuffle(n=4)\n",
    "learners = [\n",
    "    VowpalBagLearner(features=[1, 'x', 'a', 'axx']),\n",
    "    VowpalBagLearner(features=[1, 'x', 'a', 'axx'], epsilon=0.01),\n",
    "    VowpalBagLearner(features=[1, 'x', 'a', 'axx'], epsilon=0.05),\n",
    "    VowpalBagLearner(features=[1, 'x', 'a', 'axx'], epsilon=0.1),\n",
    "    VowpalBagLearner(features=[1, 'x', 'a', 'axx'], epsilon=0.2),\n",
    "]\n",
    "learners.append(RandomLearner())\n",
    "\n",
    "result = Experiment(\n",
    "    environments,\n",
    "    learners,\n",
    "    evaluation_task=SimpleEvaluation(record=['reward','probability','action','context'])\n",
    ").run()\n",
    "result.__class__ = CustomResult"
   ],
   "metadata": {
    "collapsed": false,
    "pycharm": {
     "name": "#%%\n",
     "is_executing": true
    }
   }
  },
  {
   "cell_type": "code",
   "execution_count": null,
   "outputs": [],
   "source": [
    "result.plot_learners()"
   ],
   "metadata": {
    "collapsed": false,
    "pycharm": {
     "name": "#%%\n",
     "is_executing": true
    }
   }
  },
  {
   "cell_type": "code",
   "execution_count": null,
   "outputs": [],
   "source": [
    "df = result.interactions.to_pandas()\n",
    "df.hist(column='reward')"
   ],
   "metadata": {
    "collapsed": false,
    "pycharm": {
     "name": "#%%\n",
     "is_executing": true
    }
   }
  },
  {
   "cell_type": "code",
   "execution_count": null,
   "outputs": [],
   "source": [
    "result.plot_overview()"
   ],
   "metadata": {
    "collapsed": false,
    "pycharm": {
     "name": "#%%\n",
     "is_executing": true
    }
   }
  },
  {
   "cell_type": "code",
   "execution_count": null,
   "outputs": [],
   "source": [
    "result.eval_metrics()"
   ],
   "metadata": {
    "collapsed": false,
    "pycharm": {
     "name": "#%%\n",
     "is_executing": true
    }
   }
  },
  {
   "cell_type": "code",
   "execution_count": null,
   "outputs": [],
   "source": [],
   "metadata": {
    "collapsed": false,
    "pycharm": {
     "name": "#%%\n",
     "is_executing": true
    }
   }
  }
 ],
 "metadata": {
  "kernelspec": {
   "display_name": "Python 3 (ipykernel)",
   "language": "python",
   "name": "python3"
  },
  "language_info": {
   "codemirror_mode": {
    "name": "ipython",
    "version": 3
   },
   "file_extension": ".py",
   "mimetype": "text/x-python",
   "name": "python",
   "nbconvert_exporter": "python",
   "pygments_lexer": "ipython3",
   "version": "3.9.6"
  }
 },
 "nbformat": 4,
 "nbformat_minor": 1
}